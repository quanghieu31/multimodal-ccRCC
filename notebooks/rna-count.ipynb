{
 "cells": [
  {
   "cell_type": "markdown",
   "metadata": {},
   "source": [
    "# Feed-forward, CPM+log-transform\n",
    "\n",
    "https://pmc.ncbi.nlm.nih.gov/articles/instance/10339462/bin/NIHMS1794952-supplement-supp1-3021387.pdf\n",
    "\n",
    "https://pmc.ncbi.nlm.nih.gov/articles/PMC10339462/#SM1"
   ]
  },
  {
   "cell_type": "code",
   "execution_count": 58,
   "metadata": {},
   "outputs": [
    {
     "name": "stdout",
     "output_type": "stream",
     "text": [
      "(541, 8)\n"
     ]
    },
    {
     "data": {
      "text/plain": [
       "set()"
      ]
     },
     "execution_count": 58,
     "metadata": {},
     "output_type": "execute_result"
    }
   ],
   "source": [
    "import configparser\n",
    "config = configparser.ConfigParser()\n",
    "config.read(\"../config.ini\")\n",
    "from pathlib import Path\n",
    "import os\n",
    "import pandas as pd\n",
    "import matplotlib.pyplot as plt\n",
    "import numpy as np\n",
    "from collections import Counter\n",
    "from tqdm import tqdm\n",
    "import random\n",
    "from concurrent.futures import ThreadPoolExecutor, as_completed\n",
    "\n",
    "from lifelines import CoxPHFitter\n",
    "from lifelines.statistics import logrank_test\n",
    "\n",
    "rna_seq_data_path = Path(config[\"rna\"][\"rna_path\"])\n",
    "metadata = pd.read_csv(config[\"rna\"][\"rna_metadata\"])\n",
    "\n",
    "clinical_metadata = pd.read_csv(config[\"clinical\"][\"cleaned_clinical_json\"])\n",
    "clinical_metadata_submitter_id = clinical_metadata[\"submitter_id\"].values\n",
    "# metadata = metadata[metadata[\"case_id\"].isin(filter_submitter_id)] \n",
    "print(metadata.shape) # one case_id could have multiple tsv files\n",
    "set(clinical_metadata_submitter_id).difference(set(metadata[\"case_id\"].values))"
   ]
  },
  {
   "cell_type": "markdown",
   "metadata": {},
   "source": [
    "## Preprocess\n",
    "\n",
    "CPM + log-transform"
   ]
  },
  {
   "cell_type": "code",
   "execution_count": 8,
   "metadata": {},
   "outputs": [
    {
     "data": {
      "text/plain": [
       "case_id\n",
       "TCGA-B2-5635    3\n",
       "TCGA-B2-3923    3\n",
       "TCGA-B2-3924    3\n",
       "TCGA-B2-5633    3\n",
       "Name: count, dtype: int64"
      ]
     },
     "execution_count": 8,
     "metadata": {},
     "output_type": "execute_result"
    }
   ],
   "source": [
    "metadata[\"case_id\"].value_counts()[lambda x: x > 1]"
   ]
  },
  {
   "cell_type": "code",
   "execution_count": null,
   "metadata": {},
   "outputs": [],
   "source": [
    "# collect cases with coressponding samples\n",
    "cases = metadata[\"case_id\"].unique()\n",
    "cases_files = {case: metadata[metadata[\"case_id\"] == case][\"file_name\"].values for case in cases}\n",
    "\n",
    "def process_one_case(case_id, case_files, data_dir=rna_seq_data_path):\n",
    "    \"\"\"\n",
    "    read files/samples for a case and\n",
    "    aggregates data for that case\n",
    "    \"\"\"\n",
    "    # initialize the dataframe\n",
    "    selected_cols = [\"gene_id\", \"log_cpm_unstranded\"]\n",
    "    concat_data = pd.DataFrame()\n",
    "    \n",
    "    # process each tsv_file for a case\n",
    "    for tsv_file in case_files:\n",
    "        data = pd.read_csv(data_dir / tsv_file, sep='\\t', header=1)\n",
    "        data = data[data[\"gene_type\"] == \"protein_coding\"][[\"gene_id\", \"unstranded\"]]\n",
    "        # calculate CPM\n",
    "        data[\"cpm_unstranded\"] = (data[\"unstranded\"] / data[\"unstranded\"].sum()) * 1e6\n",
    "        # calculate log-transform on CPM     \n",
    "        data[\"log_cpm_unstranded\"] = np.log1p(data[\"cpm_unstranded\"])\n",
    "        # select only gene_id and log_cpm_unstranded columns\n",
    "        data = data[[\"gene_id\", \"log_cpm_unstranded\"]]\n",
    "        concat_data = pd.concat([concat_data, data], ignore_index=True)\n",
    "\n",
    "    # aggregate the samples and transpose (prep for patient-gene matrix later)\n",
    "    aggregated_data = concat_data.groupby(\"gene_id\").mean().reset_index()\n",
    "    aggregated_data = aggregated_data.rename(columns={selected_cols[1]: case_id})\n",
    "\n",
    "    return aggregated_data\n",
    "\n",
    "\n",
    "def process_all_cases_parallel(cases_files, max_workers=8):\n",
    "    \"\"\"\n",
    "    outputs a case-gene matrix (like above, but in parallel)\n",
    "    \"\"\"\n",
    "    gene_case_matrix = pd.DataFrame(columns=[\"gene_id\"])\n",
    "\n",
    "    with ThreadPoolExecutor(max_workers=max_workers) as executor:\n",
    "        future_to_case = {executor.submit(process_one_case, case_id, case_files): case_id for case_id, case_files in cases_files.items()}\n",
    "        \n",
    "        for future in tqdm(as_completed(future_to_case), total=len(future_to_case)):\n",
    "            case_id = future_to_case[future]\n",
    "            case_data = future.result()\n",
    "            if case_data is not None:\n",
    "                gene_case_matrix = gene_case_matrix.merge(case_data, on=\"gene_id\", how=\"outer\")\n",
    "\n",
    "    # transpose the matrix\n",
    "    case_gene_matrix = gene_case_matrix.set_index(\"gene_id\").T.reset_index().rename_axis(None, axis=1)\n",
    "    case_gene_matrix.columns.values[0] = \"submitter_id\"\n",
    "    return case_gene_matrix\n",
    "\n",
    "case_gene_matrix = process_all_cases_parallel(cases_files)"
   ]
  },
  {
   "cell_type": "markdown",
   "metadata": {},
   "source": [
    "## Model\n",
    "\n",
    "Model configuration: \n",
    " \"Lastly, our Genomic SNN consists of 4 consecutive blocks of fully-connected layers with dimensions [64, 48, 32, 32], ELU activation, and\n",
    "Alpha Dropout. For survival outcome prediction, all networks were activated using the Sigmoid function, with the output scaled\n",
    "to be between -3 and 3. For grade classification, all networks were activated using the Log Softmax to compute scores for each\n",
    "of the 3 WHO Grades\"\n",
    "\n",
    "Loss function: partial negative log-likelihood (cox hazard proportional)\n",
    "\n",
    "https://pmc.ncbi.nlm.nih.gov/articles/PMC10339462/#SM1\n"
   ]
  },
  {
   "cell_type": "code",
   "execution_count": 6,
   "metadata": {},
   "outputs": [],
   "source": [
    "def init_max_weights(module):\n",
    "    for m in module.modules():\n",
    "        if type(m) == nn.Linear:\n",
    "            stdv = 1. / math.sqrt(m.weight.size(1))\n",
    "            m.weight.data.normal_(0, stdv)\n",
    "            m.bias.data.zero_()"
   ]
  },
  {
   "cell_type": "code",
   "execution_count": null,
   "metadata": {},
   "outputs": [
    {
     "name": "stdout",
     "output_type": "stream",
     "text": [
      "tensor([[-0.6515, -1.5157,  0.8950],\n",
      "        [ 1.0856, -1.0960, -1.6298],\n",
      "        [-0.3507, -1.4537,  1.6069]])\n",
      "tensor([[-0.0000, -0.0000,  0.0000],\n",
      "        [ 0.0000, -0.0000, -0.0000],\n",
      "        [-0.0000, -7.2684,  8.0347]])\n"
     ]
    }
   ],
   "source": [
    "import torch\n",
    "import torch.nn as nn\n",
    "import numpy as np\n",
    "\n",
    "\n",
    "dropout = nn.Dropout(p=0.8)  # 50% of neurons are dropped\n",
    "x = torch.randn(3, 3)\n",
    "output = dropout(x)\n",
    "print(x)\n",
    "print(output)"
   ]
  },
  {
   "cell_type": "markdown",
   "metadata": {},
   "source": [
    "# Simple baseline model\n",
    "\n",
    "- CPM+log, dim reduction, uses these features to input into a baseline linear Cox model\n",
    "- CPM+log, random forest"
   ]
  },
  {
   "cell_type": "markdown",
   "metadata": {},
   "source": [
    "## CPM+Log, PCA\n",
    "\n",
    " We empirically set the maximum number of selected features to 20 \n",
    "since traditional machine learning usually suggests using one-tenth of the train sample size as \n",
    "the maximum feature number to balance dataset efficacy and overfitting.\n",
    "\n",
    "file:///C:/Users/ASUS/Downloads/2412.07136v1.pdf\n",
    "\n"
   ]
  },
  {
   "cell_type": "code",
   "execution_count": null,
   "metadata": {},
   "outputs": [],
   "source": [
    "from sklearn.decomposition import PCA\n",
    "from sklearn.model_selection import train_test_split\n",
    "from lifelines import CoxPHFitter, KaplanMeierFitter\n",
    "from lifelines.utils import concordance_index\n",
    "\n",
    "def display_km_curves(test_df, pred_risk, title_name, save_figure=False):\n",
    "    fig, ax = plt.subplots(figsize=(10,8))\n",
    "    kmf_high = KaplanMeierFitter()\n",
    "    kmf_low = KaplanMeierFitter()\n",
    "    high_risk_idx = pred_risk > np.median(pred_risk)\n",
    "    low_risk_idx = pred_risk <= np.median(pred_risk)\n",
    "    kmf_high.fit(test_df['time'][high_risk_idx], test_df['event'][high_risk_idx], label=\"High risk\")\n",
    "    kmf_low.fit(test_df['time'][low_risk_idx], test_df['event'][low_risk_idx], label=\"Low risk\")\n",
    "    kmf_high.plot(ax=ax, ci_show=True, show_censors=True)\n",
    "    kmf_low.plot(ax=ax, ci_show=True, show_censors=True)\n",
    "\n",
    "    ax.set_title(f\"Kaplan-Meier curve for {title_name} baseline model\")\n",
    "    ax.set_xlabel(\"Time\")\n",
    "    ax.set_ylabel(\"Survival probability\")\n",
    "    plt.legend()\n",
    "    if save_figure:\n",
    "        plt.savefig(\"evaluation-results/clinical-baseline.png\")\n",
    "    else:\n",
    "        plt.show()"
   ]
  },
  {
   "cell_type": "code",
   "execution_count": 190,
   "metadata": {},
   "outputs": [
    {
     "data": {
      "image/png": "[encoded data removed]",
      "text/plain": [
       "<Figure size 800x600 with 1 Axes>"
      ]
     },
     "metadata": {},
     "output_type": "display_data"
    }
   ],
   "source": [
    "# this matrix is already preprocessed with CPM and log-transformed\n",
    "# now, we will reduce the dimensionality simply using PCA\n",
    "\n",
    "time_event = clinical_metadata[[\"time\", \"event\", \"submitter_id\"]]\n",
    "df_rna = pd.read_csv(config[\"rna\"][\"cleaned_rna\"])\n",
    "\n",
    "np.random.seed(0)\n",
    "random.seed(0)\n",
    "\n",
    "pca = PCA()\n",
    "pca.fit(df_rna.iloc[:, 1:].values)\n",
    "cumulative_variance = np.cumsum(pca.explained_variance_ratio_)\n",
    "plt.figure(figsize=(8, 6))\n",
    "plt.plot(np.arange(1, len(cumulative_variance) + 1), cumulative_variance, linewidth=1)\n",
    "plt.xlabel(\"pcs\")\n",
    "plt.ylabel(\"cumulative explained variance\")\n",
    "plt.show()"
   ]
  },
  {
   "cell_type": "code",
   "execution_count": 196,
   "metadata": {},
   "outputs": [
    {
     "data": {
      "text/plain": [
       "19975"
      ]
     },
     "execution_count": 196,
     "metadata": {},
     "output_type": "execute_result"
    }
   ],
   "source": [
    "19962 + 13"
   ]
  },
  {
   "cell_type": "code",
   "execution_count": 150,
   "metadata": {},
   "outputs": [
    {
     "name": "stdout",
     "output_type": "stream",
     "text": [
      "explained variance: [0.12506476 0.09030532 0.08220783 0.06161596 0.05114316 0.03140821\n",
      " 0.02769713 0.02237629 0.01844675 0.01691795 0.01354707 0.0124379\n",
      " 0.01136237 0.01024962 0.00984465 0.0087988 ]\n",
      "training c-index: 0.7121951219512195\n",
      "test c-index: 0.7326245323882654\n"
     ]
    },
    {
     "data": {
      "image/png": "[encoded data removed]",
      "text/plain": [
       "<Figure size 1000x800 with 1 Axes>"
      ]
     },
     "metadata": {},
     "output_type": "display_data"
    }
   ],
   "source": [
    "n_components = 16  \n",
    "\n",
    "# fit pca on the columns not including the \"submitter_id\" column\n",
    "pca = PCA(n_components=n_components, random_state=0) \n",
    "features_pca = pca.fit_transform(df_rna.iloc[:, 1:].values)\n",
    "print(\"explained variance:\", pca.explained_variance_ratio_)\n",
    "# then convert to dataframe to merge with time and event (labels)\n",
    "features_pca_df = pd.DataFrame(features_pca, columns=[f\"pc{i}\" for i in range(1, n_components + 1)])\n",
    "# add the submitter_id back to pca \n",
    "features_pca_df[\"submitter_id\"] = df_rna[\"submitter_id\"].values\n",
    "final_pca_data = pd.merge(features_pca_df, time_event, on=\"submitter_id\").drop(\"submitter_id\", axis=1)\n",
    "\n",
    "train, test = train_test_split(final_pca_data, test_size=0.3, random_state=0)\n",
    "\n",
    "coxph = CoxPHFitter()\n",
    "coxph.fit(train, duration_col=\"time\", event_col=\"event\")\n",
    "# the higher, the better ;; 0.5 = random, 1 = perfect\n",
    "print(f\"training c-index:\", coxph.concordance_index_)\n",
    "\n",
    "pred_risk = coxph.predict_partial_hazard(test.drop([\"time\", \"event\"], axis=1))\n",
    "test_c_index = concordance_index(test['time'], -pred_risk, test['event'])\n",
    "print(\"test c-index:\", test_c_index)\n",
    "\n",
    "display_km_curves(test, pred_risk, \"RNA-seq\", save_figure=False)"
   ]
  },
  {
   "cell_type": "markdown",
   "metadata": {},
   "source": [
    "## CPM_log, random forest\n",
    "\n",
    "Benefit: select important features/genes with interpretability"
   ]
  },
  {
   "cell_type": "code",
   "execution_count": null,
   "metadata": {},
   "outputs": [],
   "source": [
    "from sksurv.ensemble import RandomSurvivalForest\n",
    "from sksurv.util import Surv\n",
    "\n",
    "# prepare inputs\n",
    "full_data_rf = full_data.copy().drop(\"case_id\", axis=1) \n",
    "predictor_columns = [col for col in full_data_rf.columns if col not in [\"time\", \"event\"]]\n",
    "X = full_data_rf[predictor_columns].values\n",
    "\n",
    "y = np.array([(bool(e), t) for e, t in zip(full_data_rf[\"event\"], full_data_rf[\"time\"])],\n",
    "             dtype=[(\"event\", \"bool\"), (\"time\", \"float\")])\n",
    "\n",
    "X_train, X_test, y_train, y_test = train_test_split(X, y, test_size=0.2, random_state=123)\n",
    "\n",
    "rsf = RandomSurvivalForest(random_state=123)\n",
    "\n",
    "rsf.fit(X_train, y_train)\n",
    "\n",
    "importances = rsf.feature_importances_\n",
    "\n",
    "feature_importances = pd.Series(importances, index=predictor_columns)\n",
    "feature_importances = feature_importances.sort_values(ascending=False)\n",
    "feature_importances.head(10)"
   ]
  }
 ],
 "metadata": {
  "kernelspec": {
   "display_name": "base",
   "language": "python",
   "name": "python3"
  },
  "language_info": {
   "codemirror_mode": {
    "name": "ipython",
    "version": 3
   },
   "file_extension": ".py",
   "mimetype": "text/x-python",
   "name": "python",
   "nbconvert_exporter": "python",
   "pygments_lexer": "ipython3",
   "version": "3.11.4"
  }
 },
 "nbformat": 4,
 "nbformat_minor": 2
}
