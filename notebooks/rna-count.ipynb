{
 "cells": [
  {
   "cell_type": "markdown",
   "metadata": {},
   "source": [
    "# Feed-forward, CPM+log-transform\n",
    "\n",
    "https://pmc.ncbi.nlm.nih.gov/articles/instance/10339462/bin/NIHMS1794952-supplement-supp1-3021387.pdf\n",
    "\n",
    "https://pmc.ncbi.nlm.nih.gov/articles/PMC10339462/#SM1"
   ]
  },
  {
   "cell_type": "code",
   "execution_count": 58,
   "metadata": {},
   "outputs": [
    {
     "name": "stdout",
     "output_type": "stream",
     "text": [
      "(541, 8)\n"
     ]
    },
    {
     "data": {
      "text/plain": [
       "set()"
      ]
     },
     "execution_count": 58,
     "metadata": {},
     "output_type": "execute_result"
    }
   ],
   "source": [
    "import configparser\n",
    "config = configparser.ConfigParser()\n",
    "config.read(\"../config.ini\")\n",
    "from pathlib import Path\n",
    "import os\n",
    "import pandas as pd\n",
    "import matplotlib.pyplot as plt\n",
    "import numpy as np\n",
    "from collections import Counter\n",
    "from tqdm import tqdm\n",
    "import random\n",
    "from concurrent.futures import ThreadPoolExecutor, as_completed\n",
    "\n",
    "from lifelines import CoxPHFitter\n",
    "from lifelines.statistics import logrank_test\n",
    "\n",
    "rna_seq_data_path = Path(config[\"rna\"][\"rna_path\"])\n",
    "metadata = pd.read_csv(config[\"rna\"][\"rna_metadata\"])\n",
    "\n",
    "clinical_metadata = pd.read_csv(config[\"clinical\"][\"cleaned_clinical_json\"])\n",
    "clinical_metadata_submitter_id = clinical_metadata[\"submitter_id\"].values\n",
    "# metadata = metadata[metadata[\"case_id\"].isin(filter_submitter_id)] \n",
    "print(metadata.shape) # one case_id could have multiple tsv files\n",
    "set(clinical_metadata_submitter_id).difference(set(metadata[\"case_id\"].values))"
   ]
  },
  {
   "cell_type": "markdown",
   "metadata": {},
   "source": [
    "## Preprocess\n",
    "\n",
    "CPM + log-transform"
   ]
  },
  {
   "cell_type": "code",
   "execution_count": 8,
   "metadata": {},
   "outputs": [
    {
     "data": {
      "text/plain": [
       "case_id\n",
       "TCGA-B2-5635    3\n",
       "TCGA-B2-3923    3\n",
       "TCGA-B2-3924    3\n",
       "TCGA-B2-5633    3\n",
       "Name: count, dtype: int64"
      ]
     },
     "execution_count": 8,
     "metadata": {},
     "output_type": "execute_result"
    }
   ],
   "source": [
    "metadata[\"case_id\"].value_counts()[lambda x: x > 1]"
   ]
  },
  {
   "cell_type": "code",
   "execution_count": null,
   "metadata": {},
   "outputs": [],
   "source": [
    "# collect cases with coressponding samples\n",
    "cases = metadata[\"case_id\"].unique()\n",
    "cases_files = {case: metadata[metadata[\"case_id\"] == case][\"file_name\"].values for case in cases}\n",
    "\n",
    "def process_one_case(case_id, case_files, data_dir=rna_seq_data_path):\n",
    "    \"\"\"\n",
    "    read files/samples for a case and\n",
    "    aggregates data for that case\n",
    "    \"\"\"\n",
    "    # initialize the dataframe\n",
    "    selected_cols = [\"gene_id\", \"log_cpm_unstranded\"]\n",
    "    concat_data = pd.DataFrame()\n",
    "    \n",
    "    # process each tsv_file for a case\n",
    "    for tsv_file in case_files:\n",
    "        data = pd.read_csv(data_dir / tsv_file, sep='\\t', header=1)\n",
    "        data = data[data[\"gene_type\"] == \"protein_coding\"][[\"gene_id\", \"unstranded\"]]\n",
    "        # calculate CPM\n",
    "        data[\"cpm_unstranded\"] = (data[\"unstranded\"] / data[\"unstranded\"].sum()) * 1e6\n",
    "        # calculate log-transform on CPM     \n",
    "        data[\"log_cpm_unstranded\"] = np.log1p(data[\"cpm_unstranded\"])\n",
    "        # select only gene_id and log_cpm_unstranded columns\n",
    "        data = data[[\"gene_id\", \"log_cpm_unstranded\"]]\n",
    "        concat_data = pd.concat([concat_data, data], ignore_index=True)\n",
    "\n",
    "    # aggregate the samples and transpose (prep for patient-gene matrix later)\n",
    "    aggregated_data = concat_data.groupby(\"gene_id\").mean().reset_index()\n",
    "    aggregated_data = aggregated_data.rename(columns={selected_cols[1]: case_id})\n",
    "\n",
    "    return aggregated_data\n",
    "\n",
    "\n",
    "def process_all_cases_parallel(cases_files, max_workers=8):\n",
    "    \"\"\"\n",
    "    outputs a case-gene matrix (like above, but in parallel)\n",
    "    \"\"\"\n",
    "    gene_case_matrix = pd.DataFrame(columns=[\"gene_id\"])\n",
    "\n",
    "    with ThreadPoolExecutor(max_workers=max_workers) as executor:\n",
    "        future_to_case = {executor.submit(process_one_case, case_id, case_files): case_id for case_id, case_files in cases_files.items()}\n",
    "        \n",
    "        for future in tqdm(as_completed(future_to_case), total=len(future_to_case)):\n",
    "            case_id = future_to_case[future]\n",
    "            case_data = future.result()\n",
    "            if case_data is not None:\n",
    "                gene_case_matrix = gene_case_matrix.merge(case_data, on=\"gene_id\", how=\"outer\")\n",
    "\n",
    "    # transpose the matrix\n",
    "    case_gene_matrix = gene_case_matrix.set_index(\"gene_id\").T.reset_index().rename_axis(None, axis=1)\n",
    "    case_gene_matrix.columns.values[0] = \"submitter_id\"\n",
    "    return case_gene_matrix\n",
    "\n",
    "case_gene_matrix = process_all_cases_parallel(cases_files)"
   ]
  },
  {
   "cell_type": "code",
   "execution_count": null,
   "metadata": {},
   "outputs": [],
   "source": []
  },
  {
   "cell_type": "code",
   "execution_count": null,
   "metadata": {},
   "outputs": [],
   "source": []
  },
  {
   "cell_type": "markdown",
   "metadata": {},
   "source": [
    "## Loss function"
   ]
  },
  {
   "cell_type": "code",
   "execution_count": 5,
   "metadata": {},
   "outputs": [],
   "source": [
    "################\n",
    "# Survival Utils\n",
    "################\n",
    "def CoxLoss(survtime, censor, hazard_pred, device):\n",
    "    # This calculation credit to Travers Ching https://github.com/traversc/cox-nnet\n",
    "    # Cox-nnet: An artificial neural network method for prognosis prediction of high-throughput omics data\n",
    "    current_batch_len = len(survtime)\n",
    "    R_mat = np.zeros([current_batch_len, current_batch_len], dtype=int)\n",
    "    for i in range(current_batch_len):\n",
    "        for j in range(current_batch_len):\n",
    "            R_mat[i,j] = survtime[j] >= survtime[i]\n",
    "\n",
    "    R_mat = torch.FloatTensor(R_mat).to(device)\n",
    "    theta = hazard_pred.reshape(-1)\n",
    "    exp_theta = torch.exp(theta)\n",
    "    loss_cox = -torch.mean((theta - torch.log(torch.sum(exp_theta*R_mat, dim=1))) * censor)\n",
    "    return loss_cox\n",
    "\n",
    "\n",
    "def accuracy(output, labels):\n",
    "    preds = output.max(1)[1].type_as(labels)\n",
    "    correct = preds.eq(labels).double()\n",
    "    correct = correct.sum()\n",
    "    return correct / len(labels)\n",
    "\n",
    "\n",
    "def accuracy_cox(hazardsdata, labels):\n",
    "    # This accuracy is based on estimated survival events against true survival events\n",
    "    median = np.median(hazardsdata)\n",
    "    hazards_dichotomize = np.zeros([len(hazardsdata)], dtype=int)\n",
    "    hazards_dichotomize[hazardsdata > median] = 1\n",
    "    correct = np.sum(hazards_dichotomize == labels)\n",
    "    return correct / len(labels)\n",
    "\n",
    "\n",
    "def cox_log_rank(hazardsdata, labels, survtime_all):\n",
    "    median = np.median(hazardsdata)\n",
    "    hazards_dichotomize = np.zeros([len(hazardsdata)], dtype=int)\n",
    "    hazards_dichotomize[hazardsdata > median] = 1\n",
    "    idx = hazards_dichotomize == 0\n",
    "    T1 = survtime_all[idx]\n",
    "    T2 = survtime_all[~idx]\n",
    "    E1 = labels[idx]\n",
    "    E2 = labels[~idx]\n",
    "    results = logrank_test(T1, T2, event_observed_A=E1, event_observed_B=E2)\n",
    "    pvalue_pred = results.p_value\n",
    "    return(pvalue_pred)\n",
    "\n",
    "\n",
    "def CIndex(hazards, labels, survtime_all):\n",
    "    concord = 0.\n",
    "    total = 0.\n",
    "    N_test = labels.shape[0]\n",
    "    for i in range(N_test):\n",
    "        if labels[i] == 1:\n",
    "            for j in range(N_test):\n",
    "                if survtime_all[j] > survtime_all[i]:\n",
    "                    total += 1\n",
    "                    if hazards[j] < hazards[i]: concord += 1\n",
    "                    elif hazards[j] < hazards[i]: concord += 0.5\n",
    "\n",
    "    return(concord/total)\n",
    "\n",
    "\n",
    "def CIndex_lifeline(hazards, labels, survtime_all):\n",
    "    return(concordance_index(survtime_all, -hazards, labels))"
   ]
  },
  {
   "cell_type": "markdown",
   "metadata": {},
   "source": [
    "## Model\n",
    "\n",
    "Model configuration: \n",
    " \"Lastly, our Genomic SNN consists of 4 consecutive blocks of fully-connected layers with dimensions [64, 48, 32, 32], ELU activation, and\n",
    "Alpha Dropout. For survival outcome prediction, all networks were activated using the Sigmoid function, with the output scaled\n",
    "to be between -3 and 3. For grade classification, all networks were activated using the Log Softmax to compute scores for each\n",
    "of the 3 WHO Grades\"\n",
    "\n",
    "Loss function: partial negative log-likelihood (cox hazard proportional)"
   ]
  },
  {
   "cell_type": "code",
   "execution_count": 6,
   "metadata": {},
   "outputs": [],
   "source": [
    "def init_max_weights(module):\n",
    "    for m in module.modules():\n",
    "        if type(m) == nn.Linear:\n",
    "            stdv = 1. / math.sqrt(m.weight.size(1))\n",
    "            m.weight.data.normal_(0, stdv)\n",
    "            m.bias.data.zero_()"
   ]
  },
  {
   "cell_type": "code",
   "execution_count": null,
   "metadata": {},
   "outputs": [
    {
     "name": "stdout",
     "output_type": "stream",
     "text": [
      "tensor([[-0.6515, -1.5157,  0.8950],\n",
      "        [ 1.0856, -1.0960, -1.6298],\n",
      "        [-0.3507, -1.4537,  1.6069]])\n",
      "tensor([[-0.0000, -0.0000,  0.0000],\n",
      "        [ 0.0000, -0.0000, -0.0000],\n",
      "        [-0.0000, -7.2684,  8.0347]])\n"
     ]
    }
   ],
   "source": [
    "import torch\n",
    "import torch.nn as nn\n",
    "import numpy as np\n",
    "\n",
    "\n",
    "dropout = nn.Dropout(p=0.8)  # 50% of neurons are dropped\n",
    "x = torch.randn(3, 3)\n",
    "output = dropout(x)\n",
    "print(x)\n",
    "print(output)"
   ]
  },
  {
   "cell_type": "markdown",
   "metadata": {},
   "source": [
    "## Help Model\n"
   ]
  },
  {
   "cell_type": "code",
   "execution_count": 5,
   "metadata": {},
   "outputs": [],
   "source": [
    "import math\n",
    "import numpy as np\n",
    "import pandas as pd\n",
    "import torch\n",
    "import torch.nn as nn\n",
    "import torch.optim as optim\n",
    "from torch.nn import Parameter\n",
    "from torch.utils.data import Dataset, DataLoader\n",
    "from sklearn.model_selection import train_test_split"
   ]
  },
  {
   "cell_type": "code",
   "execution_count": null,
   "metadata": {},
   "outputs": [],
   "source": [
    "# ---------------------------\n",
    "# Cox partial negative log loss Function\n",
    "# ---------------------------\n",
    "def CoxLoss(survtime, censor, hazard_pred, device):\n",
    "    \"\"\"\n",
    "    computes the Cox partial likelihood loss\n",
    "    - survtime: survival times (batch tensor)\n",
    "    - censor: event indicators (1 if event occurred, 0 if censored)\n",
    "    - hazard_pred: predicted hazard scores (batch tensor)\n",
    "    \"\"\"\n",
    "    current_batch_len = len(survtime) # current batch size\n",
    "\n",
    "    # build risk set indicator matrix: R[i,j] = 1 if survtime[j] >= survtime[i]\n",
    "    R_mat = np.zeros([current_batch_len, current_batch_len], dtype=int)\n",
    "    for i in range(current_batch_len):\n",
    "        for j in range(current_batch_len):\n",
    "            R_mat[i, j] = survtime[j] >= survtime[i]\n",
    "    R_mat = torch.FloatTensor(R_mat).to(device)\n",
    "\n",
    "    # hazard_pred score is Xi * beta\n",
    "    theta = hazard_pred.view(-1)  # flatten predictions\n",
    "    exp_theta = torch.exp(theta)\n",
    "\n",
    "    # negative log partial likelihood weighted by event indicators\n",
    "    loss_cox = -torch.mean((theta - torch.log(torch.sum(exp_theta * R_mat, dim=1))) * censor)\n",
    "    return loss_cox\n",
    "\n",
    "# ---------------------------\n",
    "# custom c-index\n",
    "# ---------------------------\n",
    "def concordance_index(hazards, times, events):\n",
    "    \"\"\"\n",
    "    computes the c-index for survival prediction\n",
    "    - hazards: predicted risk scores (higher means higher risk)\n",
    "    - times: observed survival times\n",
    "    - events: event indicators (1 if event occurred, 0 if censored)\n",
    "    \"\"\"\n",
    "    n = len(times)\n",
    "    concordant = 0.0\n",
    "    permissible = 0.0\n",
    "    for i in range(n):\n",
    "        for j in range(n):\n",
    "            # nly compare if i had an event and its time is earlier than j\n",
    "            if times[i] < times[j] and events[i] == 1:\n",
    "                permissible += 1\n",
    "                if hazards[i] > hazards[j]:\n",
    "                    concordant += 1\n",
    "                elif hazards[i] == hazards[j]:\n",
    "                    concordant += 0.5\n",
    "    return concordant / permissible if permissible > 0 else 0\n",
    "\n",
    "# ---------------------------\n",
    "# custom weight initialization\n",
    "# ---------------------------\n",
    "def init_max_weights(module):\n",
    "    \"\"\"\n",
    "    ccustom weight initialization for all Linear layers.\n",
    "    \"\"\"\n",
    "    for m in module.modules():\n",
    "        if isinstance(m, nn.Linear):\n",
    "            stdv = 1. / math.sqrt(m.weight.size(1))\n",
    "            m.weight.data.normal_(0, stdv)\n",
    "            if m.bias is not None:\n",
    "                m.bias.data.zero_()\n",
    "\n",
    "# ---------------------------\n",
    "# dataset loader\n",
    "# ---------------------------\n",
    "class GenomicDataset(Dataset):\n",
    "    def __init__(self, dataframe):\n",
    "        \"\"\"\n",
    "        dataset for survival analysis with genomic data\n",
    "        args:\n",
    "            dataframe with columns for gene expressions, 'time', and 'event'\n",
    "        \"\"\"\n",
    "        self.data = dataframe.copy()\n",
    "        # Identify gene expression columns (exclude identifiers and survival columns)\n",
    "        self.gene_columns = [col for col in self.data.columns if col not in ['case_id', 'time', 'event']]\n",
    "        # Convert gene columns to floats\n",
    "        self.data[self.gene_columns] = self.data[self.gene_columns].astype(float)\n",
    "        \n",
    "    def __len__(self):\n",
    "        return len(self.data)\n",
    "    \n",
    "    def __getitem__(self, idx):\n",
    "        # Get the row and convert gene expression features to tensor\n",
    "        sample = self.data.iloc[idx]\n",
    "        num_gene_values = sample[self.gene_columns].astype(float).to_numpy()\n",
    "        x_omic = torch.tensor(num_gene_values, dtype=torch.float32)\n",
    "        time = torch.tensor(sample['time'], dtype=torch.float32)\n",
    "        event = torch.tensor(sample['event'], dtype=torch.float32)  # 1: event occurred; 0: censored\n",
    "        return x_omic, time, event\n"
   ]
  },
  {
   "cell_type": "code",
   "execution_count": null,
   "metadata": {},
   "outputs": [],
   "source": [
    "# ---------------------------\n",
    "# define model\n",
    "# ---------------------------\n",
    "class RnaNN(nn.Module):\n",
    "    def __init__(self, input_dim, omic_dim=32, dropout_rate=0.25, act=None, label_dim=1, init_max=True):\n",
    "        \"\"\"\n",
    "        args:\n",
    "            input_dim: no. of input gene expression features\n",
    "            omic_dim: dimension of the latent (encoded) feature space\n",
    "            dropout_rate: dropout probability (alphaDropout used here)\n",
    "            act: activation function applied to the output\n",
    "            label_dim: output dimension (1 for hazard score)\n",
    "            init_max: ff True, applies custom weight initialization\n",
    "        \"\"\"\n",
    "        super(RnaNN, self).__init__()\n",
    "        \n",
    "        hidden = [64, 48, 32, 32]\n",
    "        self.act = act\n",
    "\n",
    "        # encoder: series of FCLinear -> ELU -> AlphaDropout layers\n",
    "        # TODO: pathomic paper: \"Our network architecture consists of four fully-connected layers followed by Exponential Linear Unit (ELU) activation and Alpha Dropout to ensure the self-normalization property.\"\n",
    "        self.encoder = nn.Sequential(\n",
    "            nn.Sequential(nn.Linear(input_dim, hidden[0]), nn.ELU(), nn.AlphaDropout(p=dropout_rate)),\n",
    "            nn.Sequential(nn.Linear(hidden[0], hidden[1]), nn.ELU(), nn.AlphaDropout(p=dropout_rate)),\n",
    "            nn.Sequential(nn.Linear(hidden[1], hidden[2]), nn.ELU(), nn.AlphaDropout(p=dropout_rate)),\n",
    "            nn.Sequential(nn.Linear(hidden[2], omic_dim), nn.ELU(), nn.AlphaDropout(p=dropout_rate))\n",
    "        )\n",
    "        # classifier: maps latent features to a hazard score\n",
    "        self.classifier = nn.Sequential(nn.Linear(omic_dim, label_dim))\n",
    "        \n",
    "        if init_max:\n",
    "            init_max_weights(self)  # custom initialization\n",
    "\n",
    "        # If using a sigmoid activation, these parameters rescale the output\n",
    "        self.output_range = Parameter(torch.FloatTensor([6]), requires_grad=False)\n",
    "        self.output_shift = Parameter(torch.FloatTensor([-3]), requires_grad=False)\n",
    "\n",
    "    def forward(self, x_omic):\n",
    "        \"\"\"\n",
    "        fForward pass:\n",
    "          - x_omic: tensor of genomic features\n",
    "          returns encoded features and the final hazard score prediction\n",
    "        \"\"\"\n",
    "        features = self.encoder(x_omic)  # extract latent features\n",
    "        out = self.classifier(features)   # compute hazard score\n",
    "        if self.act is not None:\n",
    "            out = self.act(out)\n",
    "            # rescale output if sigmoid is used\n",
    "            if isinstance(self.act, nn.Sigmoid):\n",
    "                out = out * self.output_range + self.output_shift\n",
    "\n",
    "        return features, out\n"
   ]
  },
  {
   "cell_type": "code",
   "execution_count": 8,
   "metadata": {},
   "outputs": [
    {
     "name": "stdout",
     "output_type": "stream",
     "text": [
      "device: cuda\n",
      "input_dim: 19962\n"
     ]
    }
   ],
   "source": [
    "# ---------------------------\n",
    "# data prep\n",
    "# ---------------------------\n",
    "np.random.seed(123)\n",
    "torch.manual_seed(123)\n",
    "random.seed(123)\n",
    "\n",
    "# 80% for train and 20% for valid\n",
    "train_df, val_df = train_test_split(full_data, test_size=0.2, random_state=123, stratify=full_data['event'])\n",
    "\n",
    "train_dataset = GenomicDataset(train_df)\n",
    "val_dataset = GenomicDataset(val_df)\n",
    "\n",
    "# data loader to iterate over in batches\n",
    "train_loader = DataLoader(train_dataset, batch_size=32, shuffle=True)\n",
    "val_loader = DataLoader(val_dataset, batch_size=32, shuffle=False)\n",
    "\n",
    "# ---------------------------\n",
    "# initializations\n",
    "# ---------------------------\n",
    "device = torch.device(\"cuda\" if torch.cuda.is_available() else \"cpu\")\n",
    "input_dim = len(train_dataset.gene_columns)  \n",
    "print(\"device:\", device)\n",
    "print(\"input_dim:\", input_dim)\n",
    "\n",
    "model = RnaNN(input_dim=input_dim, omic_dim=32, dropout_rate=0.25, act=None, label_dim=1, init_max=True).to(device)\n",
    "optimizer = optim.Adam(model.parameters(), lr=0.002) # training is very sensitive to lr"
   ]
  },
  {
   "cell_type": "code",
   "execution_count": 9,
   "metadata": {},
   "outputs": [
    {
     "name": "stdout",
     "output_type": "stream",
     "text": [
      "epoch 1/8, loss: 3.0315278521123923\n",
      "epoch 2/8, loss: 2.4401419747550532\n",
      "epoch 3/8, loss: 1.5402775879176158\n",
      "epoch 4/8, loss: 0.9282577037811279\n",
      "epoch 5/8, loss: 0.9678110176662229\n",
      "epoch 6/8, loss: 0.9177331755746085\n",
      "epoch 7/8, loss: 0.9410822846979465\n",
      "epoch 8/8, loss: 0.9660339130545562\n"
     ]
    }
   ],
   "source": [
    "# ---------------------------\n",
    "# training \n",
    "# ---------------------------\n",
    "num_epochs = 8  \n",
    "\n",
    "model.train()\n",
    "for epoch in range(num_epochs):\n",
    "    epoch_loss = 0.0\n",
    "\n",
    "    for x_omic, time, event in train_loader:\n",
    "        \n",
    "        x_omic = x_omic.to(device)\n",
    "        time = time.to(device)\n",
    "        event = event.to(device)\n",
    "        \n",
    "        # predicted hazard scores\n",
    "        _, hazard_pred = model(x_omic)\n",
    "        \n",
    "        # Cox loss using survival time and event indicators\n",
    "        loss = CoxLoss(time, event, hazard_pred, device)\n",
    "        \n",
    "        optimizer.zero_grad()\n",
    "        loss.backward()\n",
    "        optimizer.step()\n",
    "        epoch_loss += loss.item() * x_omic.size(0)\n",
    "    \n",
    "    epoch_loss /= len(train_dataset)\n",
    "    print(f\"epoch {epoch+1}/{num_epochs}, loss: {epoch_loss}\")"
   ]
  },
  {
   "cell_type": "code",
   "execution_count": 10,
   "metadata": {},
   "outputs": [
    {
     "name": "stdout",
     "output_type": "stream",
     "text": [
      "validation c-index: 0.6036036036036037\n"
     ]
    }
   ],
   "source": [
    "# ---------------------------\n",
    "# validation \n",
    "# ---------------------------\n",
    "model.eval()\n",
    "all_hazards = []\n",
    "all_times = []\n",
    "all_events = []\n",
    "\n",
    "with torch.no_grad():\n",
    "    # Loop over validation DataLoader to collect predictions and true outcomes\n",
    "    for x_omic, time, event in val_loader:\n",
    "        x_omic = x_omic.to(device)\n",
    "        time = time.to(device)\n",
    "        event = event.to(device)\n",
    "        _, hazard_pred = model(x_omic)\n",
    "        # Store predictions and labels (flatten hazard predictions to a 1D array)\n",
    "        all_hazards.append(hazard_pred.view(-1).cpu().numpy())\n",
    "        all_times.append(time.cpu().numpy())\n",
    "        all_events.append(event.cpu().numpy())\n",
    "\n",
    "# concatenate all batches\n",
    "all_hazards = np.concatenate(all_hazards)\n",
    "all_times = np.concatenate(all_times)\n",
    "all_events = np.concatenate(all_events)\n",
    "\n",
    "\n",
    "c_index = concordance_index(all_hazards, all_times, all_events)\n",
    "print(\"validation c-index:\", c_index)"
   ]
  },
  {
   "cell_type": "code",
   "execution_count": 11,
   "metadata": {},
   "outputs": [
    {
     "data": {
      "image/png": "[encoded data removed]",
      "text/plain": [
       "<Figure size 1000x800 with 1 Axes>"
      ]
     },
     "metadata": {},
     "output_type": "display_data"
    },
    {
     "name": "stdout",
     "output_type": "stream",
     "text": [
      "log-rank test p-value 0.19118949452881404\n"
     ]
    }
   ],
   "source": [
    "from lifelines import KaplanMeierFitter\n",
    "from lifelines.statistics import logrank_test\n",
    "\n",
    "# ---------------------------\n",
    "# KM curves and log-rank test\n",
    "# ---------------------------\n",
    "\n",
    "# dichotomize patients into low- and high-risk groups based on the median hazard\n",
    "\n",
    "median_hazard = np.median(all_hazards)\n",
    "# masking low and high risk groupd based on median hazard\n",
    "low_risk_mask = all_hazards <= median_hazard\n",
    "high_risk_mask = all_hazards > median_hazard\n",
    "\n",
    "# KM curves for each group\n",
    "kmf_low = KaplanMeierFitter()\n",
    "kmf_high = KaplanMeierFitter()\n",
    "\n",
    "# fitting\n",
    "kmf_low.fit(all_times[low_risk_mask], event_observed=all_events[low_risk_mask], label='low risk')\n",
    "kmf_high.fit(all_times[high_risk_mask], event_observed=all_events[high_risk_mask], label='high risk')\n",
    "\n",
    "plt.figure(figsize=(10, 8))\n",
    "\n",
    "ax = plt.subplot(111)\n",
    "kmf_low.plot_survival_function(ax=ax, ci_show=True)\n",
    "kmf_high.plot_survival_function(ax=ax, ci_show=True)\n",
    "\n",
    "plt.title('Kaplan-Meier survival by risk group')\n",
    "plt.xlabel('time')\n",
    "plt.ylabel('survival probability')\n",
    "plt.legend()\n",
    "plt.show()\n",
    "\n",
    "\n",
    "# log-rank test evaluates if the survival curves of the two groups are statistically different\n",
    "logrank_test = logrank_test(all_times[low_risk_mask], all_times[high_risk_mask],\n",
    "                       event_observed_A=all_events[low_risk_mask],\n",
    "                       event_observed_B=all_events[high_risk_mask])\n",
    "\n",
    "print(\"log-rank test p-value\", logrank_test.p_value)\n"
   ]
  },
  {
   "cell_type": "markdown",
   "metadata": {},
   "source": [
    "# Simple baseline model\n",
    "\n",
    "- CPM+log, dim reduction, uses these features to input into a baseline linear Cox model\n",
    "- CPM+log, random forest"
   ]
  },
  {
   "cell_type": "markdown",
   "metadata": {},
   "source": [
    "## CPM+Log, PCA\n",
    "\n",
    " We empirically set the maximum number of selected features to 20 \n",
    "since traditional machine learning usually suggests using one-tenth of the train sample size as \n",
    "the maximum feature number to balance dataset efficacy and overfitting.\n",
    "\n",
    "file:///C:/Users/ASUS/Downloads/2412.07136v1.pdf\n",
    "\n"
   ]
  },
  {
   "cell_type": "code",
   "execution_count": null,
   "metadata": {},
   "outputs": [],
   "source": [
    "from sklearn.decomposition import PCA\n",
    "from sklearn.model_selection import train_test_split\n",
    "from lifelines import CoxPHFitter, KaplanMeierFitter\n",
    "from lifelines.utils import concordance_index\n",
    "\n",
    "def display_km_curves(test_df, pred_risk, title_name, save_figure=False):\n",
    "    fig, ax = plt.subplots(figsize=(10,8))\n",
    "    kmf_high = KaplanMeierFitter()\n",
    "    kmf_low = KaplanMeierFitter()\n",
    "    high_risk_idx = pred_risk > np.median(pred_risk)\n",
    "    low_risk_idx = pred_risk <= np.median(pred_risk)\n",
    "    kmf_high.fit(test_df['time'][high_risk_idx], test_df['event'][high_risk_idx], label=\"High risk\")\n",
    "    kmf_low.fit(test_df['time'][low_risk_idx], test_df['event'][low_risk_idx], label=\"Low risk\")\n",
    "    kmf_high.plot(ax=ax, ci_show=True, show_censors=True)\n",
    "    kmf_low.plot(ax=ax, ci_show=True, show_censors=True)\n",
    "\n",
    "    ax.set_title(f\"Kaplan-Meier curve for {title_name} baseline model\")\n",
    "    ax.set_xlabel(\"Time\")\n",
    "    ax.set_ylabel(\"Survival probability\")\n",
    "    plt.legend()\n",
    "    if save_figure:\n",
    "        plt.savefig(\"evaluation-results/clinical-baseline.png\")\n",
    "    else:\n",
    "        plt.show()"
   ]
  },
  {
   "cell_type": "code",
   "execution_count": 166,
   "metadata": {},
   "outputs": [],
   "source": [
    "import torch"
   ]
  },
  {
   "cell_type": "code",
   "execution_count": 189,
   "metadata": {},
   "outputs": [
    {
     "data": {
      "text/plain": [
       "tensor([[3.7292, 0.1844, 3.3097,  ..., 0.0000, 0.0576, 0.1441]])"
      ]
     },
     "execution_count": 189,
     "metadata": {},
     "output_type": "execute_result"
    }
   ],
   "source": [
    "test_rna = pd.read_csv(config[\"rna\"][\"cleaned_rna\"])\n",
    "test_rna.set_index(\"submitter_id\", inplace=True)\n",
    "\n",
    "gene_expressions = list(test_rna.loc[\"TCGA-B2-5635\"])\n",
    "torch.tensor(gene_expressions, dtype=torch.float32).unsqueeze(0)\n",
    "\n",
    "# faster than a dictionary!"
   ]
  },
  {
   "cell_type": "code",
   "execution_count": null,
   "metadata": {},
   "outputs": [
    {
     "data": {
      "text/plain": [
       "torch.Size([1, 19962])"
      ]
     },
     "execution_count": 181,
     "metadata": {},
     "output_type": "execute_result"
    }
   ],
   "source": []
  },
  {
   "cell_type": "code",
   "execution_count": 122,
   "metadata": {},
   "outputs": [
    {
     "data": {
      "image/png": "[encoded data removed]",
      "text/plain": [
       "<Figure size 800x600 with 1 Axes>"
      ]
     },
     "metadata": {},
     "output_type": "display_data"
    }
   ],
   "source": [
    "# this matrix is already preprocessed with CPM and log-transformed\n",
    "# now, we will reduce the dimensionality simply using PCA\n",
    "\n",
    "time_event = clinical_metadata[[\"time\", \"event\", \"submitter_id\"]]\n",
    "df_rna = pd.read_csv(config[\"rna\"][\"cleaned_rna\"])\n",
    "\n",
    "np.random.seed(0)\n",
    "random.seed(0)\n",
    "\n",
    "pca = PCA()\n",
    "pca.fit(df_rna.iloc[:, 1:].values)\n",
    "cumulative_variance = np.cumsum(pca.explained_variance_ratio_)\n",
    "plt.figure(figsize=(8, 6))\n",
    "plt.plot(np.arange(1, len(cumulative_variance) + 1), cumulative_variance, linewidth=1)\n",
    "plt.xlabel(\"pcs\")\n",
    "plt.ylabel(\"cumulative explained variance\")\n",
    "plt.show()"
   ]
  },
  {
   "cell_type": "code",
   "execution_count": 150,
   "metadata": {},
   "outputs": [
    {
     "name": "stdout",
     "output_type": "stream",
     "text": [
      "explained variance: [0.12506476 0.09030532 0.08220783 0.06161596 0.05114316 0.03140821\n",
      " 0.02769713 0.02237629 0.01844675 0.01691795 0.01354707 0.0124379\n",
      " 0.01136237 0.01024962 0.00984465 0.0087988 ]\n",
      "training c-index: 0.7121951219512195\n",
      "test c-index: 0.7326245323882654\n"
     ]
    },
    {
     "data": {
      "image/png": "[encoded data removed]",
      "text/plain": [
       "<Figure size 1000x800 with 1 Axes>"
      ]
     },
     "metadata": {},
     "output_type": "display_data"
    }
   ],
   "source": [
    "n_components = 16  \n",
    "\n",
    "# fit pca on the columns not including the \"submitter_id\" column\n",
    "pca = PCA(n_components=n_components, random_state=0) \n",
    "features_pca = pca.fit_transform(df_rna.iloc[:, 1:].values)\n",
    "print(\"explained variance:\", pca.explained_variance_ratio_)\n",
    "# then convert to dataframe to merge with time and event (labels)\n",
    "features_pca_df = pd.DataFrame(features_pca, columns=[f\"pc{i}\" for i in range(1, n_components + 1)])\n",
    "# add the submitter_id back to pca \n",
    "features_pca_df[\"submitter_id\"] = df_rna[\"submitter_id\"].values\n",
    "final_pca_data = pd.merge(features_pca_df, time_event, on=\"submitter_id\").drop(\"submitter_id\", axis=1)\n",
    "\n",
    "train, test = train_test_split(final_pca_data, test_size=0.3, random_state=0)\n",
    "\n",
    "coxph = CoxPHFitter()\n",
    "coxph.fit(train, duration_col=\"time\", event_col=\"event\")\n",
    "# the higher, the better ;; 0.5 = random, 1 = perfect\n",
    "print(f\"training c-index:\", coxph.concordance_index_)\n",
    "\n",
    "pred_risk = coxph.predict_partial_hazard(test.drop([\"time\", \"event\"], axis=1))\n",
    "test_c_index = concordance_index(test['time'], -pred_risk, test['event'])\n",
    "print(\"test c-index:\", test_c_index)\n",
    "\n",
    "display_km_curves(test, pred_risk, \"RNA-seq\", save_figure=False)"
   ]
  },
  {
   "cell_type": "markdown",
   "metadata": {},
   "source": [
    "## CPM_log, random forest\n",
    "\n",
    "Benefit: select important features/genes with interpretability"
   ]
  },
  {
   "cell_type": "code",
   "execution_count": null,
   "metadata": {},
   "outputs": [],
   "source": [
    "from sksurv.ensemble import RandomSurvivalForest\n",
    "from sksurv.util import Surv\n",
    "\n",
    "# prepare inputs\n",
    "full_data_rf = full_data.copy().drop(\"case_id\", axis=1) \n",
    "predictor_columns = [col for col in full_data_rf.columns if col not in [\"time\", \"event\"]]\n",
    "X = full_data_rf[predictor_columns].values\n",
    "\n",
    "y = np.array([(bool(e), t) for e, t in zip(full_data_rf[\"event\"], full_data_rf[\"time\"])],\n",
    "             dtype=[(\"event\", \"bool\"), (\"time\", \"float\")])\n",
    "\n",
    "X_train, X_test, y_train, y_test = train_test_split(X, y, test_size=0.2, random_state=123)\n",
    "\n",
    "rsf = RandomSurvivalForest(random_state=123)\n",
    "\n",
    "rsf.fit(X_train, y_train)\n",
    "\n",
    "importances = rsf.feature_importances_\n",
    "\n",
    "feature_importances = pd.Series(importances, index=predictor_columns)\n",
    "feature_importances = feature_importances.sort_values(ascending=False)\n",
    "feature_importances.head(10)"
   ]
  }
 ],
 "metadata": {
  "kernelspec": {
   "display_name": "base",
   "language": "python",
   "name": "python3"
  },
  "language_info": {
   "codemirror_mode": {
    "name": "ipython",
    "version": 3
   },
   "file_extension": ".py",
   "mimetype": "text/x-python",
   "name": "python",
   "nbconvert_exporter": "python",
   "pygments_lexer": "ipython3",
   "version": "3.11.4"
  }
 },
 "nbformat": 4,
 "nbformat_minor": 2
}
